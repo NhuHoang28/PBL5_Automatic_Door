{
 "cells": [
  {
   "cell_type": "code",
   "execution_count": 2,
   "metadata": {},
   "outputs": [],
   "source": [
    "from facenet_pytorch import MTCNN, InceptionResnetV1\n",
    "import torch\n",
    "from torchvision import datasets\n",
    "from torch.utils.data import DataLoader\n",
    "from sklearn.model_selection import train_test_split\n",
    "from PIL import Image\n",
    "from sklearn.metrics import classification_report\n",
    "import pandas as pd\n",
    "import tensorflow as tf\n",
    "import matplotlib.pyplot as plt\n",
    "import numpy as np\n",
    "from sklearn.preprocessing import StandardScaler\n",
    "from sklearn.decomposition import PCA\n",
    "import matplotlib.pyplot as plt\n",
    "import numpy as np"
   ]
  },
  {
   "cell_type": "code",
   "execution_count": 3,
   "metadata": {},
   "outputs": [
    {
     "name": "stderr",
     "output_type": "stream",
     "text": [
      "C:\\Users\\ththo\\AppData\\Roaming\\Python\\Python39\\site-packages\\torch\\nn\\functional.py:780: UserWarning: Note that order of the arguments: ceil_mode and return_indices will changeto match the args list in nn.MaxPool2d in a future release.\n",
      "  warnings.warn(\"Note that order of the arguments: ceil_mode and return_indices will change\"\n"
     ]
    }
   ],
   "source": [
    "mtcnn = MTCNN(image_size=240, margin=0, min_face_size=20)  \n",
    "resnet = InceptionResnetV1(pretrained='vggface2').eval()  \n",
    "\n",
    "dataset=datasets.ImageFolder('anh lung tung')  \n",
    "idx_to_class = {i:c for c,i in dataset.class_to_idx.items()} \n",
    "\n",
    "def collate_fn(x):\n",
    "    return x[0]\n",
    "\n",
    "loader = DataLoader(dataset, collate_fn=collate_fn)\n",
    "\n",
    "face_list = []  \n",
    "name_list = []  \n",
    "embedding_list = []  \n",
    "\n",
    "#Lay dl\n",
    "for img, idx in loader:\n",
    "    face, prob = mtcnn(img, return_prob=True) \n",
    "    if face is not None and prob>0.90:  \n",
    "        face_list.append(face)\n",
    "        name_list.append(idx_to_class[idx]) \n",
    "#Chia bo test\n",
    "(trainX, testX, trainY, testY) = train_test_split(face_list,\n",
    "\tname_list, test_size=0.3, stratify=name_list, random_state=42)    \n",
    " #train bo train\n",
    "for face in trainX:\n",
    "    emb = resnet(face.unsqueeze(0))   \n",
    "    embedding_list.append(emb.detach().numpy()[0]) \n",
    "data = [embedding_list, name_list] \n",
    "df = pd.DataFrame(embedding_list)"
   ]
  },
  {
   "cell_type": "code",
   "execution_count": 8,
   "metadata": {},
   "outputs": [
    {
     "name": "stdout",
     "output_type": "stream",
     "text": [
      "        0         1         2         3         4         5         6    \\\n",
      "0  0.023140  0.024648 -0.051174  0.051144  0.029356 -0.048611 -0.022625   \n",
      "1  0.012997  0.024410 -0.045036  0.049684  0.049588 -0.053935 -0.027992   \n",
      "\n",
      "        7         8         9    ...       502       503       504       505  \\\n",
      "0  0.006503  0.033507  0.007021  ... -0.040959 -0.052970 -0.097774  0.089281   \n",
      "1  0.014110  0.033364  0.004419  ... -0.045422 -0.065089 -0.095705  0.090547   \n",
      "\n",
      "        506       507       508       509       510       511  \n",
      "0 -0.000949  0.031583 -0.021945 -0.065354  0.061943  0.014904  \n",
      "1  0.010287  0.021719 -0.014345 -0.056718  0.079957  0.015547  \n",
      "\n",
      "[2 rows x 512 columns]\n",
      "y=\n",
      "[1. 1.]\n"
     ]
    },
    {
     "data": {
      "image/png": "[encoded data removed]",
      "text/plain": [
       "<Figure size 1080x432 with 1 Axes>"
      ]
     },
     "metadata": {
      "needs_background": "light"
     },
     "output_type": "display_data"
    }
   ],
   "source": [
    "# Create the dataframe \n",
    "print(df)\n",
    "data_scaled = df.copy()\n",
    "\n",
    "# scaler = StandardScaler()\n",
    "# scaler.fit(data_scaled)\n",
    "# data_scaled = pd.DataFrame(scaler.transform(data_scaled), columns=data_scaled.columns)\n",
    "\n",
    "pca = PCA().fit(data_scaled)\n",
    "num_features = data_scaled.shape[1]\n",
    "plt.rcParams[\"figure.figsize\"] = (15, 6)\n",
    "\n",
    "fig, ax = plt.subplots()\n",
    "xi = np.arange(1, num_features + 1, step=1) \n",
    "y = np.cumsum(pca.explained_variance_ratio_)  \n",
    "print(\"y=\")\n",
    "print(y)"
   ]
  }
 ],
 "metadata": {
  "interpreter": {
   "hash": "11938c6bc6919ae2720b4d5011047913343b08a43b18698fd82dedb0d4417594"
  },
  "kernelspec": {
   "display_name": "Python 3.9.12 64-bit",
   "language": "python",
   "name": "python3"
  },
  "language_info": {
   "codemirror_mode": {
    "name": "ipython",
    "version": 3
   },
   "file_extension": ".py",
   "mimetype": "text/x-python",
   "name": "python",
   "nbconvert_exporter": "python",
   "pygments_lexer": "ipython3",
   "version": "3.9.12"
  },
  "orig_nbformat": 4
 },
 "nbformat": 4,
 "nbformat_minor": 2
}
